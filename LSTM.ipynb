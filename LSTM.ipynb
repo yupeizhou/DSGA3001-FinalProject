{
  "nbformat": 4,
  "nbformat_minor": 0,
  "metadata": {
    "colab": {
      "name": "LSTM",
      "provenance": [],
      "machine_shape": "hm"
    },
    "kernelspec": {
      "name": "python3",
      "display_name": "Python 3"
    },
    "accelerator": "GPU"
  },
  "cells": [
    {
      "cell_type": "code",
      "metadata": {
        "colab": {
          "base_uri": "https://localhost:8080/"
        },
        "id": "vNKhbTbNFscP",
        "outputId": "e1677ed3-8280-4c01-e100-dd98d1f63a14"
      },
      "source": [
        "# mount Google drive\n",
        "from google.colab import drive\n",
        "drive.mount('/content/drive')"
      ],
      "execution_count": null,
      "outputs": [
        {
          "output_type": "stream",
          "text": [
            "Mounted at /content/drive\n"
          ],
          "name": "stdout"
        }
      ]
    },
    {
      "cell_type": "code",
      "metadata": {
        "id": "kvoDXOasyXon"
      },
      "source": [
        "# import library\n",
        "import numpy as np\n",
        "import os \n",
        "import pandas as pd\n",
        "import matplotlib.pyplot as plt\n",
        "import seaborn as sns\n",
        "import math\n",
        "import warnings\n",
        "import torch\n",
        "import torch.nn as nn\n",
        "from sklearn.metrics import mean_squared_error\n",
        "from sklearn.preprocessing import MinMaxScaler\n",
        "warnings.filterwarnings('ignore')"
      ],
      "execution_count": null,
      "outputs": []
    },
    {
      "cell_type": "code",
      "metadata": {
        "colab": {
          "base_uri": "https://localhost:8080/"
        },
        "id": "ZV_3gLMPjLVU",
        "outputId": "1b4d69b6-7946-4c99-d98e-27a5e70bbccb"
      },
      "source": [
        "# change directory\r\n",
        "cd drive/MyDrive/time_series/"
      ],
      "execution_count": null,
      "outputs": [
        {
          "output_type": "stream",
          "text": [
            "/content/drive/.shortcut-targets-by-id/153aUrsRMGEMxVeMr3_Rc-HCglOYysMia/time_series\n"
          ],
          "name": "stdout"
        }
      ]
    },
    {
      "cell_type": "code",
      "metadata": {
        "id": "JYO5DAdRFrl_"
      },
      "source": [
        "# load the data\n",
        "State_time_series = pd.read_csv('/content/drive/My Drive/time_series/data/State_time_series.csv', parse_dates = True)\n",
        "State_time_series.Date = pd.to_datetime(State_time_series.Date)\n",
        "State_time_series['year'] = State_time_series.Date.dt.year"
      ],
      "execution_count": null,
      "outputs": []
    },
    {
      "cell_type": "code",
      "metadata": {
        "id": "1hm4v_5hGAbg"
      },
      "source": [
        "# get costliest states\n",
        "states = set(State_time_series[\n",
        "    ~State_time_series['ZHVI_AllHomes'].isnull() &\n",
        "    ~State_time_series['Sale_Prices'].isnull() & \n",
        "    ~State_time_series['ZHVIPerSqft_AllHomes'].isnull()\n",
        "                      ]['RegionName'].values)\n",
        "\n",
        "State_time_series_year = State_time_series[State_time_series['RegionName'].isin(states)].copy()\n",
        "highest_cost_states = State_time_series_year[['RegionName', 'ZHVI_AllHomes']].groupby('RegionName').max().sort_values(by=['ZHVI_AllHomes'], ascending = False)[:5].index.values.tolist()\n",
        "State_time_series_year = State_time_series_year[State_time_series_year.RegionName.isin(highest_cost_states)]\n",
        "State_time_series_year.year = State_time_series_year.Date.dt.year"
      ],
      "execution_count": null,
      "outputs": []
    },
    {
      "cell_type": "code",
      "metadata": {
        "id": "wVv-HUqRfYBH"
      },
      "source": [
        "# find the zhvi prices for top 5 states\n",
        "states = ['DistrictofColumbia', 'California', 'Massachusetts', 'NewJersey', 'Washington']\n",
        "zhvi_data = State_time_series_year[['Date','ZHVI_AllHomes','RegionName', 'ZHVIPerSqft_AllHomes']]"
      ],
      "execution_count": null,
      "outputs": []
    },
    {
      "cell_type": "code",
      "metadata": {
        "id": "w6sJOt-HjQEc"
      },
      "source": [
        "# set lstm model directory\n",
        "model_dir = './lstm_model'\n",
        "if not os.path.exists(model_dir):\n",
        "    os.makedirs(model_dir)"
      ],
      "execution_count": null,
      "outputs": []
    },
    {
      "cell_type": "code",
      "metadata": {
        "id": "FaAMlsMKiP70"
      },
      "source": [
        "# set test data size and window size\n",
        "test_size = 24\n",
        "window_size = 12"
      ],
      "execution_count": null,
      "outputs": []
    },
    {
      "cell_type": "code",
      "metadata": {
        "id": "2lKQGeVlE8kq"
      },
      "source": [
        "# split train test data\n",
        "def train_test_data(zhvi_data, state, test_size = test_size):\n",
        "    state_zhvi_data = zhvi_data.loc[zhvi_data['RegionName'] == state]\n",
        "    data = np.array(np.log(state_zhvi_data['ZHVIPerSqft_AllHomes']))\n",
        "    date = np.array(state_zhvi_data['Date'])   \n",
        "    \n",
        "    train_data = data[:-test_size]\n",
        "    test_data = data[-test_size:]\n",
        "\n",
        "    return train_data, test_data, date    "
      ],
      "execution_count": null,
      "outputs": []
    },
    {
      "cell_type": "code",
      "metadata": {
        "id": "M3WsESQFLxBa"
      },
      "source": [
        "# scale training data\n",
        "def train_data_scaler(train_data):\n",
        "    scaler = MinMaxScaler(feature_range = (-1, 1))\n",
        "    train_data_normalized = scaler.fit_transform(train_data.reshape(-1, 1))\n",
        "    train_data_normalized = torch.FloatTensor(train_data_normalized).view(-1)\n",
        "\n",
        "    return train_data_normalized, scaler"
      ],
      "execution_count": null,
      "outputs": []
    },
    {
      "cell_type": "code",
      "metadata": {
        "id": "3oKsPvsoMIcO"
      },
      "source": [
        "# split training data\n",
        "def create_train_sequences(input_data, window_size = window_size):\n",
        "    train_seqs = []\n",
        "    l = len(input_data)\n",
        "    for i in range(l - window_size):\n",
        "        train_seq = input_data[i: i + window_size]\n",
        "        train_label = input_data[i + window_size: i + window_size + 1]\n",
        "        train_seqs.append((train_seq, train_label))\n",
        "    return train_seqs"
      ],
      "execution_count": null,
      "outputs": []
    },
    {
      "cell_type": "code",
      "metadata": {
        "id": "FM3dwUHUM3VH"
      },
      "source": [
        "# train lstm model\n",
        "def train_model(model, state, train_seqs, test_inputs, epochs, model_dir = model_dir):\n",
        "\n",
        "    train_loss_lst = []\n",
        "    valid_loss_lst = []\n",
        "\n",
        "    best_valid_loss = float('inf')\n",
        "    for i in range(epochs):\n",
        "\n",
        "        model.train()\n",
        "        train_loss = 0\n",
        "\n",
        "        for seq, labels in train_seqs:\n",
        "            optimizer.zero_grad()\n",
        "            model.hidden_cell = (torch.zeros(1, 1, model.hidden_layer_size),\n",
        "                                torch.zeros(1, 1, model.hidden_layer_size))\n",
        "            y_pred = model(seq)\n",
        "            loss = loss_function(y_pred, labels)\n",
        "            train_loss += loss\n",
        "            loss.backward()\n",
        "            optimizer.step()\n",
        "\n",
        "        train_loss = train_loss / len(train_seqs)\n",
        "        train_loss_lst.append(train_loss)\n",
        "\n",
        "        model.eval()\n",
        "\n",
        "        test_seq = test_inputs.copy()\n",
        "        for j in range(test_size):\n",
        "            seq = torch.FloatTensor(test_seq[-window_size:])\n",
        "            test_seq.append(model(seq).item())\n",
        "\n",
        "        predictions = test_seq[window_size:]\n",
        "        predictions = scaler.inverse_transform(np.array(predictions).reshape(-1, 1)).reshape(-1,)\n",
        "        valid_loss = mean_squared_error(predictions, test_data)\n",
        "        valid_loss_lst.append(valid_loss)\n",
        "\n",
        "        if valid_loss < best_valid_loss:\n",
        "            best_valid_loss = valid_loss\n",
        "            torch.save(model, os.path.join(model_dir, 'lstm_' + state + '_persqrt.pt'))\n",
        "\n",
        "        if (i + 1) % 25 == 0: \n",
        "            print('Epoch {} training loss: {:.5f}, validation loss {:.5f}.'.format(i + 1, train_loss, valid_loss))\n",
        "            print('=' * 60)\n",
        "\n",
        "    print('Training completed, best validation loss is {:.5f}'.format(best_valid_loss))\n",
        "\n",
        "    return train_loss_lst, valid_loss_lst"
      ],
      "execution_count": null,
      "outputs": []
    },
    {
      "cell_type": "code",
      "metadata": {
        "id": "AmQH13lznpLN"
      },
      "source": [
        "# evaluate model on test set\n",
        "def model_score(model, test_inputs, scaler):\n",
        "    model.eval()\n",
        "    test_seq = test_inputs.copy()\n",
        "    for i in range(test_size):\n",
        "        seq = torch.FloatTensor(test_seq[-window_size:])\n",
        "        test_seq.append(best_model(seq).item())\n",
        "    actual_predictions = scaler.inverse_transform(np.array(test_seq[window_size:]).reshape(-1, 1)).reshape(-1, )\n",
        "    mse = mean_squared_error(actual_predictions, test_data)\n",
        "\n",
        "    return actual_predictions, mse"
      ],
      "execution_count": null,
      "outputs": []
    },
    {
      "cell_type": "code",
      "metadata": {
        "id": "PywQuNUAJKa5"
      },
      "source": [
        "# use the model to predict into the future\n",
        "def model_predict(model, fut_pred, test_inputs, scaler):\n",
        "    model.eval()\n",
        "    test_seq = test_inputs.copy()\n",
        "    for i in range(fut_pred):\n",
        "        seq = torch.FloatTensor(test_seq[-window_size:])\n",
        "        test_seq.append(best_model(seq).item())\n",
        "    actual_predictions = scaler.inverse_transform(np.array(test_seq[window_size:]).reshape(-1, 1)).reshape(-1, )\n",
        "    \n",
        "    return actual_predictions    "
      ],
      "execution_count": null,
      "outputs": []
    },
    {
      "cell_type": "code",
      "metadata": {
        "id": "Bf4p1S4NtO31"
      },
      "source": [
        "# produce timestamps in the future\n",
        "def fut_timestamp(fut_pred, start):\n",
        "    time_lst = []\n",
        "    for yr in range(fut_pred // 12):\n",
        "        time_lst += [str(start + yr) + '-' + str(n).zfill(2) for n in np.arange(1, 13)]\n",
        "    time_lst += [str(start + yr + 1) + '-' + str(n).zfill(2) for n in np.arange(1, fut_pred % 12 + 1)]\n",
        "    time_lst = np.array(pd.to_datetime(time_lst) + pd.offsets.MonthEnd())\n",
        "    return time_lst"
      ],
      "execution_count": null,
      "outputs": []
    },
    {
      "cell_type": "code",
      "metadata": {
        "id": "hMvsDc2IjZJD"
      },
      "source": [
        "# choose the state\r\n",
        "state = 'Washington'"
      ],
      "execution_count": null,
      "outputs": []
    },
    {
      "cell_type": "code",
      "metadata": {
        "id": "UwqGOJPdGUnD"
      },
      "source": [
        "# prepare training and test data\n",
        "train_data, test_data, date = train_test_data(zhvi_data, state, test_size)\n",
        "train_data_normalized, scaler = train_data_scaler(train_data)\n",
        "train_seqs = create_train_sequences(train_data_normalized, window_size)\n",
        "test_inputs = train_data_normalized[-window_size:].tolist()"
      ],
      "execution_count": null,
      "outputs": []
    },
    {
      "cell_type": "code",
      "metadata": {
        "id": "mL8ZO4ULMiJv"
      },
      "source": [
        "# define LSTM model\n",
        "class LSTM(nn.Module):\n",
        "    def __init__(self, input_size = 1, hidden_layer_size = 32, output_size = 1):\n",
        "       \n",
        "        super().__init__()\n",
        "        self.hidden_layer_size = hidden_layer_size\n",
        "        self.lstm = nn.LSTM(input_size, hidden_layer_size)\n",
        "        self.linear = nn.Linear(hidden_layer_size, output_size)\n",
        "        self.hidden_cell = (torch.zeros(1, 1, self.hidden_layer_size),\n",
        "                            torch.zeros(1, 1, self.hidden_layer_size))\n",
        "\n",
        "    def forward(self, input_seq):\n",
        "\n",
        "        lstm_out, self.hidden_cell = self.lstm(input_seq.view(len(input_seq), 1, -1), self.hidden_cell)\n",
        "        predictions = self.linear(lstm_out.view(len(input_seq), -1))\n",
        "\n",
        "        return predictions[-1]"
      ],
      "execution_count": null,
      "outputs": []
    },
    {
      "cell_type": "code",
      "metadata": {
        "id": "-oAOjxqRMjUv"
      },
      "source": [
        "# initialize model\n",
        "model = LSTM()\n",
        "loss_function = nn.MSELoss()\n",
        "optimizer = torch.optim.Adam(model.parameters(), lr = 5e-5)\n",
        "epochs = 150"
      ],
      "execution_count": null,
      "outputs": []
    },
    {
      "cell_type": "code",
      "metadata": {
        "colab": {
          "base_uri": "https://localhost:8080/"
        },
        "id": "XEPK7MMqJABj",
        "outputId": "0ac17967-68c1-46ce-cd28-fec0c1c3f3a9"
      },
      "source": [
        "# train and save model\r\n",
        "train_loss_lst, valid_loss_lst = train_model(model, state, train_seqs, test_inputs, epochs)"
      ],
      "execution_count": null,
      "outputs": [
        {
          "output_type": "stream",
          "text": [
            "Epoch 25 training loss: 0.00831, validation loss 0.02252.\n",
            "============================================================\n",
            "Epoch 50 training loss: 0.00474, validation loss 0.05060.\n",
            "============================================================\n",
            "Epoch 75 training loss: 0.00117, validation loss 0.08346.\n",
            "============================================================\n",
            "Epoch 100 training loss: 0.00029, validation loss 0.00947.\n",
            "============================================================\n",
            "Epoch 125 training loss: 0.00027, validation loss 0.01563.\n",
            "============================================================\n",
            "Epoch 150 training loss: 0.00025, validation loss 0.00407.\n",
            "============================================================\n",
            "Training completed, best validation loss is 0.00229\n"
          ],
          "name": "stdout"
        }
      ]
    },
    {
      "cell_type": "code",
      "metadata": {
        "id": "PiejAgVP0KNj",
        "colab": {
          "base_uri": "https://localhost:8080/",
          "height": 265
        },
        "outputId": "996462d6-da02-4fcb-baa3-17f1850830cd"
      },
      "source": [
        "# plot losses\n",
        "plt.plot(np.arange(1, epochs + 1), train_loss_lst, label = 'training loss')\n",
        "plt.plot(np.arange(1, epochs + 1), valid_loss_lst, label = 'validation loss')\n",
        "plt.legend()\n",
        "plt.show()"
      ],
      "execution_count": null,
      "outputs": [
        {
          "output_type": "display_data",
          "data": {
            "image/png": "[encoded data removed]",
            "text/plain": [
              "<Figure size 432x288 with 1 Axes>"
            ]
          },
          "metadata": {
            "tags": [],
            "needs_background": "light"
          }
        }
      ]
    },
    {
      "cell_type": "code",
      "metadata": {
        "id": "y0j681PfB28j"
      },
      "source": [
        "# load model\r\n",
        "best_model = torch.load(os.path.join(model_dir, 'lstm_' + state + '_persqrt.pt'))"
      ],
      "execution_count": null,
      "outputs": []
    },
    {
      "cell_type": "code",
      "metadata": {
        "colab": {
          "base_uri": "https://localhost:8080/",
          "height": 281
        },
        "id": "rfYJqjmC2IHR",
        "outputId": "4bf42912-67a1-42ae-c89f-587fa8afa858"
      },
      "source": [
        "# evaluate model on test data\n",
        "prediction, mse = model_score(best_model, test_inputs, scaler)\n",
        "plt.plot(date, np.concatenate([train_data, test_data]), label = 'ground truth')\n",
        "plt.plot(date[-test_size:], prediction, label = 'prediction, rmse = {:.5f}'.format(np.sqrt(mse)))\n",
        "plt.title('the existing and predicted value for state Washington')\n",
        "plt.legend()\n",
        "plt.show()"
      ],
      "execution_count": null,
      "outputs": [
        {
          "output_type": "display_data",
          "data": {
            "image/png": "[encoded data removed]",
            "text/plain": [
              "<Figure size 432x288 with 1 Axes>"
            ]
          },
          "metadata": {
            "tags": [],
            "needs_background": "light"
          }
        }
      ]
    },
    {
      "cell_type": "code",
      "metadata": {
        "colab": {
          "base_uri": "https://localhost:8080/",
          "height": 265
        },
        "id": "9EWpPwbKqrgU",
        "outputId": "fa6de3ec-76b1-4ae0-b21c-e983dbdc648d"
      },
      "source": [
        "# predict into the future\n",
        "fut_pred = 114\n",
        "longer_prediction = model_predict(best_model, fut_pred, test_inputs, scaler)\n",
        "plt.plot(date, np.concatenate([train_data, test_data]), label = 'ground truth')\n",
        "plt.plot(np.concatenate([date[-test_size:], fut_timestamp(fut_pred - test_size, 2018)]), longer_prediction, label = 'prediction')\n",
        "plt.legend()\n",
        "plt.show()"
      ],
      "execution_count": null,
      "outputs": [
        {
          "output_type": "display_data",
          "data": {
            "image/png": "[encoded data removed]",
            "text/plain": [
              "<Figure size 432x288 with 1 Axes>"
            ]
          },
          "metadata": {
            "tags": [],
            "needs_background": "light"
          }
        }
      ]
    }
  ]
}